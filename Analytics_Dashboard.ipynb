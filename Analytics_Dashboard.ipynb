{
 "cells": [
  {
   "cell_type": "markdown",
   "id": "d4c6d242-6bea-43fe-ad87-4654f269a773",
   "metadata": {},
   "source": [
    "# Analytics"
   ]
  },
  {
   "cell_type": "code",
   "execution_count": 17,
   "id": "9b497a8d-21d3-4a4b-b36e-3aab20b6011c",
   "metadata": {},
   "outputs": [],
   "source": [
    "from pathlib import Path\n",
    "import pandas as pd\n",
    "import streamlit as st"
   ]
  },
  {
   "cell_type": "code",
   "execution_count": 18,
   "id": "e6ecc70e-4f15-41e4-9c2b-3d2c225d9d57",
   "metadata": {},
   "outputs": [
    {
     "name": "stdout",
     "output_type": "stream",
     "text": [
      "                           Symbol                       Description  \\\n",
      "Date/Time                                                             \n",
      "2025-03-07 10:00:45-07:00  MESH25  Micro E-mini S&P 500: March 2025   \n",
      "2025-03-07 09:56:26-07:00  MESH25  Micro E-mini S&P 500: March 2025   \n",
      "2025-03-07 09:56:26-07:00  MESH25  Micro E-mini S&P 500: March 2025   \n",
      "2025-03-07 09:56:26-07:00  MESH25  Micro E-mini S&P 500: March 2025   \n",
      "2025-03-07 09:56:26-07:00  MESH25  Micro E-mini S&P 500: March 2025   \n",
      "\n",
      "                          Symbol type              Expiration date  \\\n",
      "Date/Time                                                            \n",
      "2025-03-07 10:00:45-07:00     Futures  3/20/2025 5:00:00 PM -07:00   \n",
      "2025-03-07 09:56:26-07:00     Futures  3/20/2025 5:00:00 PM -07:00   \n",
      "2025-03-07 09:56:26-07:00     Futures  3/20/2025 5:00:00 PM -07:00   \n",
      "2025-03-07 09:56:26-07:00     Futures  3/20/2025 5:00:00 PM -07:00   \n",
      "2025-03-07 09:56:26-07:00     Futures  3/20/2025 5:00:00 PM -07:00   \n",
      "\n",
      "                           Strike price  Side Order type  Quantity    Price  \\\n",
      "Date/Time                                                                     \n",
      "2025-03-07 10:00:45-07:00             0  Sell     Market       -15  5693.00   \n",
      "2025-03-07 09:56:26-07:00             0   Buy      Limit         2  5683.75   \n",
      "2025-03-07 09:56:26-07:00             0   Buy      Limit         6  5683.75   \n",
      "2025-03-07 09:56:26-07:00             0   Buy      Limit         1  5683.75   \n",
      "2025-03-07 09:56:26-07:00             0   Buy      Limit         1  5683.75   \n",
      "\n",
      "                           Gross P/L  Fee  Net P/L  Trade value     Trade ID  \\\n",
      "Date/Time                                                                      \n",
      "2025-03-07 10:00:45-07:00     693.75    0        0   -426975.00  64430353933   \n",
      "2025-03-07 09:56:26-07:00       0.00    0        0     56837.50  64430150669   \n",
      "2025-03-07 09:56:26-07:00       0.00    0        0    170512.50  64430150157   \n",
      "2025-03-07 09:56:26-07:00       0.00    0        0     28418.75  64430149901   \n",
      "2025-03-07 09:56:26-07:00       0.00    0        0     28418.75  64430149389   \n",
      "\n",
      "                             Order ID  Position ID Connection name  Comment  \\\n",
      "Date/Time                                                                     \n",
      "2025-03-07 10:00:45-07:00  1364143949          NaN         AMP/CQG      NaN   \n",
      "2025-03-07 09:56:26-07:00  1364217547          NaN         AMP/CQG      NaN   \n",
      "2025-03-07 09:56:26-07:00  1364217547          NaN         AMP/CQG      NaN   \n",
      "2025-03-07 09:56:26-07:00  1364217547          NaN         AMP/CQG      NaN   \n",
      "2025-03-07 09:56:26-07:00  1364217547          NaN         AMP/CQG      NaN   \n",
      "\n",
      "                                     Exchange  \n",
      "Date/Time                                      \n",
      "2025-03-07 10:00:45-07:00  CME E-Mini Futures  \n",
      "2025-03-07 09:56:26-07:00  CME E-Mini Futures  \n",
      "2025-03-07 09:56:26-07:00  CME E-Mini Futures  \n",
      "2025-03-07 09:56:26-07:00  CME E-Mini Futures  \n",
      "2025-03-07 09:56:26-07:00  CME E-Mini Futures  \n"
     ]
    }
   ],
   "source": [
    "# Define the file path\n",
    "data_path = Path(\"data/Trades_March_2025.csv\")\n",
    "\n",
    "#Load the data\n",
    "data_path = pd.read_csv(data_path, parse_dates=True, index_col=\"Date/Time\", infer_datetime_format=True)\n",
    "\n",
    "#Preview the data\n",
    "print(data_path.head())"
   ]
  },
  {
   "cell_type": "code",
   "execution_count": null,
   "id": "ddd4f2c6-ce1e-4f07-a3b4-3d4103e6aadd",
   "metadata": {},
   "outputs": [],
   "source": []
  }
 ],
 "metadata": {
  "kernelspec": {
   "display_name": "Python 3 (ipykernel)",
   "language": "python",
   "name": "python3"
  },
  "language_info": {
   "codemirror_mode": {
    "name": "ipython",
    "version": 3
   },
   "file_extension": ".py",
   "mimetype": "text/x-python",
   "name": "python",
   "nbconvert_exporter": "python",
   "pygments_lexer": "ipython3",
   "version": "3.7.13"
  }
 },
 "nbformat": 4,
 "nbformat_minor": 5
}
